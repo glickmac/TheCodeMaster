{
 "cells": [
  {
   "cell_type": "markdown",
   "metadata": {},
   "source": [
    "### Basename Folder Creation and Assignment\n",
    "The purpose of this post and script is to consolidate files into folders by the basename. In bioinformatics, I encounter situations where programs have created numerous files from an input with different extensions. When running multiple jobs these files become cluttered and difficult to move into individual folders. For example, consider the following directory structure below \n",
    "\n",
    "- Directory\n",
    "    - bar.csv\n",
    "    - foo.csv\n",
    "    - bar.tar.gz\n",
    "    - foo.tar.gz\n",
    "    - bar.txt\n",
    "    - foo.txt\n",
    "    \n",
    "\n",
    "The output of this script would convert the directory above into individually labeled folders\n",
    "\n",
    "- Directory\n",
    "    - bar\n",
    "        - bar.csv\n",
    "        - bar.tar.gz\n",
    "        - bar.txt\n",
    "   \n",
    "    - foo\n",
    "        - foo.csv\n",
    "        - foo.tar.gz\n",
    "        - foo.txt\n"
   ]
  },
  {
   "cell_type": "code",
   "execution_count": null,
   "metadata": {
    "collapsed": true
   },
   "outputs": [],
   "source": [
    "## Import libraries\n",
    "import glob  ## Read linux paths\n",
    "import os    ## Perform linux commands\n",
    "import sys   ## Used in standalone script for reading user input\n",
    "import re    ## Used to ignore directories in file list"
   ]
  },
  {
   "cell_type": "code",
   "execution_count": null,
   "metadata": {},
   "outputs": [],
   "source": [
    "## Input Directory\n",
    "name = 'DemoData/'\n",
    "\n",
    "## Save file names as a list (Change Folder_with_Combined directory to your input directory)\n",
    "y = glob.glob('DemoData/*')\n",
    "\n",
    "## Remove directories from search\n",
    "y = [x for x in y if re.search(r'\\.', x)]\n",
    "\n",
    "## Retain file name w/ extension (i.e. basename.txt)\n",
    "basename = [x.split(\"/\")[-1] for x in y]\n",
    "\n",
    "## Remove all extensions\n",
    "removed_extensions = [x.split(\".\")[0] for x in basename]\n",
    "directories = list(set(removed_extensions))\n",
    "\n",
    "## Create new directories (Check if directory already exists)\n",
    "for f in directories:\n",
    "    try:\n",
    "        os.mkdir(name+f)\n",
    "    except:\n",
    "        print(str(f) + \" directory already exists\")\n",
    "        pass"
   ]
  },
  {
   "cell_type": "code",
   "execution_count": null,
   "metadata": {},
   "outputs": [],
   "source": [
    "for item in range(len(basename)):\n",
    "    new_names = name+ removed_extensions[item] + '/' + basename[item]\n",
    "    print(new_names)\n",
    "    os.rename(y[item], new_names)"
   ]
  },
  {
   "cell_type": "markdown",
   "metadata": {},
   "source": [
    "### Running the script\n",
    "\n",
    "To run the script BaseNameFolderAssignment first make the script executable \n",
    "\n",
    "\n",
    "```chmod +x BaseNameFolderAssignment```\n",
    "\n",
    "\n",
    "Next run the script with the desired directory as input. This tutorial contains a demo dataset to play around with the script under the directory DemoData\n",
    "\n",
    "```./BaseNameFolderAssignment DemoData/```"
   ]
  }
 ],
 "metadata": {
  "kernelspec": {
   "display_name": "Python 2",
   "language": "python",
   "name": "python2"
  },
  "language_info": {
   "codemirror_mode": {
    "name": "ipython",
    "version": 2
   },
   "file_extension": ".py",
   "mimetype": "text/x-python",
   "name": "python",
   "nbconvert_exporter": "python",
   "pygments_lexer": "ipython2",
   "version": "2.7.14"
  },
  "toc": {
   "base_numbering": 1,
   "nav_menu": {},
   "number_sections": true,
   "sideBar": true,
   "skip_h1_title": false,
   "title_cell": "Table of Contents",
   "title_sidebar": "Contents",
   "toc_cell": false,
   "toc_position": {},
   "toc_section_display": true,
   "toc_window_display": false
  }
 },
 "nbformat": 4,
 "nbformat_minor": 2
}
